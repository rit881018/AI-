{
  "nbformat": 4,
  "nbformat_minor": 0,
  "metadata": {
    "colab": {
      "name": "「「「keras_CNN_Cifar10.ipynb」的副本」的副本」的副本",
      "provenance": [],
      "collapsed_sections": []
    },
    "kernelspec": {
      "name": "python3",
      "display_name": "Python 3"
    },
    "language_info": {
      "name": "python"
    },
    "accelerator": "GPU"
  },
  "cells": [
    {
      "cell_type": "code",
      "source": [
        "from tensorflow import keras #模型設計\n",
        "from keras.models import Sequential\n",
        "from keras.layers import Dense, Conv2D, MaxPooling2D, Flatten\n",
        "model=Sequential()\n",
        "model.add(Conv2D(filters=64, kernel_size=(5, 5), input_shape=(32, 32, 3), activation='relu'))\n",
        "model.add(Conv2D(filters=64, kernel_size=(5, 5), activation='relu'))\n",
        "model.add(MaxPooling2D(pool_size=2))\n",
        "model.add(Conv2D(filters=128, kernel_size=(5, 5), activation='relu'))\n",
        "model.add(Conv2D(filters=128, kernel_size=(5, 5), activation='relu'))\n",
        "model.add(MaxPooling2D(pool_size=2))\n",
        "model.add(Flatten())\n",
        "model.add(Dense(10, activation='softmax'))\n",
        "model.summary()\n",
        "model.compile(optimizer='rmsprop', loss='categorical_crossentropy', metrics=['accuracy'])"
      ],
      "metadata": {
        "colab": {
          "base_uri": "https://localhost:8080/"
        },
        "id": "LQ_HZ-tK8L-C",
        "outputId": "2b189f3e-69a4-435a-d63b-fd4252187a62"
      },
      "execution_count": 1,
      "outputs": [
        {
          "output_type": "stream",
          "name": "stdout",
          "text": [
            "Model: \"sequential\"\n",
            "_________________________________________________________________\n",
            " Layer (type)                Output Shape              Param #   \n",
            "=================================================================\n",
            " conv2d (Conv2D)             (None, 28, 28, 64)        4864      \n",
            "                                                                 \n",
            " conv2d_1 (Conv2D)           (None, 24, 24, 64)        102464    \n",
            "                                                                 \n",
            " max_pooling2d (MaxPooling2D  (None, 12, 12, 64)       0         \n",
            " )                                                               \n",
            "                                                                 \n",
            " conv2d_2 (Conv2D)           (None, 8, 8, 128)         204928    \n",
            "                                                                 \n",
            " conv2d_3 (Conv2D)           (None, 4, 4, 128)         409728    \n",
            "                                                                 \n",
            " max_pooling2d_1 (MaxPooling  (None, 2, 2, 128)        0         \n",
            " 2D)                                                             \n",
            "                                                                 \n",
            " flatten (Flatten)           (None, 512)               0         \n",
            "                                                                 \n",
            " dense (Dense)               (None, 10)                5130      \n",
            "                                                                 \n",
            "=================================================================\n",
            "Total params: 727,114\n",
            "Trainable params: 727,114\n",
            "Non-trainable params: 0\n",
            "_________________________________________________________________\n"
          ]
        }
      ]
    },
    {
      "cell_type": "code",
      "source": [
        "cifar10=keras.datasets.cifar10 #讀資料\n",
        "(train_data, train_label), (test_data, test_label) = cifar10.load_data() #50000訓練10000測試\n",
        "train_label_original=train_label\n",
        "train_label = keras.utils.to_categorical(train_label)\n",
        "test_label = keras.utils.to_categorical(test_label)"
      ],
      "metadata": {
        "id": "4eM5EOSr4DLB",
        "colab": {
          "base_uri": "https://localhost:8080/"
        },
        "outputId": "fea2d1ed-6024-49f1-824c-605bb7e5ac7e"
      },
      "execution_count": 2,
      "outputs": [
        {
          "output_type": "stream",
          "name": "stdout",
          "text": [
            "Downloading data from https://www.cs.toronto.edu/~kriz/cifar-10-python.tar.gz\n",
            "170500096/170498071 [==============================] - 2s 0us/step\n",
            "170508288/170498071 [==============================] - 2s 0us/step\n"
          ]
        }
      ]
    },
    {
      "cell_type": "code",
      "source": [
        "import matplotlib.pyplot as plt #秀一筆資料\n",
        "category=['airplane','automobile','bird','cat','deer','dog','frog','horse','ship','truck']\n",
        "plt.imshow(train_data[0])\n",
        "plt.title(category[int(train_label_original[0])])\n",
        "plt.show()\n",
        "print(train_label_original[0])"
      ],
      "metadata": {
        "colab": {
          "base_uri": "https://localhost:8080/",
          "height": 298
        },
        "id": "4j8cPTbDahQr",
        "outputId": "b9121f59-d03e-43ea-eb3f-79e35e156fc6"
      },
      "execution_count": 3,
      "outputs": [
        {
          "output_type": "display_data",
          "data": {
            "text/plain": [
              "<Figure size 432x288 with 1 Axes>"
            ],
            "image/png": "[encoded data removed]"
          },
          "metadata": {
            "needs_background": "light"
          }
        },
        {
          "output_type": "stream",
          "name": "stdout",
          "text": [
            "[6]\n"
          ]
        }
      ]
    },
    {
      "cell_type": "code",
      "source": [
        "train_history=model.fit(train_data,train_label,epochs=30,batch_size=512) #開始訓練\n"
      ],
      "metadata": {
        "id": "UFCQb8bgy3nU",
        "colab": {
          "base_uri": "https://localhost:8080/"
        },
        "outputId": "80124624-25d9-40c2-8623-9c48c1c78f2e"
      },
      "execution_count": 4,
      "outputs": [
        {
          "output_type": "stream",
          "name": "stdout",
          "text": [
            "Epoch 1/30\n",
            "98/98 [==============================] - 18s 54ms/step - loss: 12.3426 - accuracy: 0.1620\n",
            "Epoch 2/30\n",
            "98/98 [==============================] - 5s 46ms/step - loss: 2.3111 - accuracy: 0.2097\n",
            "Epoch 3/30\n",
            "98/98 [==============================] - 5s 50ms/step - loss: 2.1046 - accuracy: 0.2855\n",
            "Epoch 4/30\n",
            "98/98 [==============================] - 5s 49ms/step - loss: 1.8237 - accuracy: 0.3665\n",
            "Epoch 5/30\n",
            "98/98 [==============================] - 5s 48ms/step - loss: 1.7243 - accuracy: 0.4070\n",
            "Epoch 6/30\n",
            "98/98 [==============================] - 5s 47ms/step - loss: 1.5419 - accuracy: 0.4676\n",
            "Epoch 7/30\n",
            "98/98 [==============================] - 5s 47ms/step - loss: 1.4178 - accuracy: 0.5139\n",
            "Epoch 8/30\n",
            "98/98 [==============================] - 5s 48ms/step - loss: 1.2735 - accuracy: 0.5632\n",
            "Epoch 9/30\n",
            "98/98 [==============================] - 5s 49ms/step - loss: 1.1494 - accuracy: 0.6059\n",
            "Epoch 10/30\n",
            "98/98 [==============================] - 5s 48ms/step - loss: 1.0261 - accuracy: 0.6496\n",
            "Epoch 11/30\n",
            "98/98 [==============================] - 5s 48ms/step - loss: 0.9282 - accuracy: 0.6849\n",
            "Epoch 12/30\n",
            "98/98 [==============================] - 5s 47ms/step - loss: 0.8147 - accuracy: 0.7223\n",
            "Epoch 13/30\n",
            "98/98 [==============================] - 5s 48ms/step - loss: 0.7119 - accuracy: 0.7576\n",
            "Epoch 14/30\n",
            "98/98 [==============================] - 5s 47ms/step - loss: 0.6031 - accuracy: 0.7957\n",
            "Epoch 15/30\n",
            "98/98 [==============================] - 5s 47ms/step - loss: 0.5376 - accuracy: 0.8202\n",
            "Epoch 16/30\n",
            "98/98 [==============================] - 5s 47ms/step - loss: 0.4330 - accuracy: 0.8535\n",
            "Epoch 17/30\n",
            "98/98 [==============================] - 5s 47ms/step - loss: 0.3803 - accuracy: 0.8728\n",
            "Epoch 18/30\n",
            "98/98 [==============================] - 5s 47ms/step - loss: 0.3687 - accuracy: 0.8793\n",
            "Epoch 19/30\n",
            "98/98 [==============================] - 5s 47ms/step - loss: 0.2981 - accuracy: 0.9011\n",
            "Epoch 20/30\n",
            "98/98 [==============================] - 5s 47ms/step - loss: 0.3148 - accuracy: 0.9020\n",
            "Epoch 21/30\n",
            "98/98 [==============================] - 5s 48ms/step - loss: 0.2750 - accuracy: 0.9119\n",
            "Epoch 22/30\n",
            "98/98 [==============================] - 5s 48ms/step - loss: 0.2337 - accuracy: 0.9251\n",
            "Epoch 23/30\n",
            "98/98 [==============================] - 5s 47ms/step - loss: 0.2408 - accuracy: 0.9263\n",
            "Epoch 24/30\n",
            "98/98 [==============================] - 5s 47ms/step - loss: 0.2278 - accuracy: 0.9328\n",
            "Epoch 25/30\n",
            "98/98 [==============================] - 5s 47ms/step - loss: 0.2254 - accuracy: 0.9306\n",
            "Epoch 26/30\n",
            "98/98 [==============================] - 5s 48ms/step - loss: 0.2217 - accuracy: 0.9366\n",
            "Epoch 27/30\n",
            "98/98 [==============================] - 5s 48ms/step - loss: 0.2146 - accuracy: 0.9396\n",
            "Epoch 28/30\n",
            "98/98 [==============================] - 5s 48ms/step - loss: 0.1866 - accuracy: 0.9450\n",
            "Epoch 29/30\n",
            "98/98 [==============================] - 5s 47ms/step - loss: 0.2123 - accuracy: 0.9411\n",
            "Epoch 30/30\n",
            "98/98 [==============================] - 5s 47ms/step - loss: 0.2223 - accuracy: 0.9419\n"
          ]
        }
      ]
    },
    {
      "cell_type": "code",
      "source": [
        "score=model.evaluate(test_data, test_label)\n",
        "print(score[1])"
      ],
      "metadata": {
        "id": "SC2VW7yl87F-",
        "colab": {
          "base_uri": "https://localhost:8080/"
        },
        "outputId": "5fe1426f-3ead-4d1f-d3ef-598a45abb1b7"
      },
      "execution_count": 5,
      "outputs": [
        {
          "output_type": "stream",
          "name": "stdout",
          "text": [
            "313/313 [==============================] - 2s 4ms/step - loss: 3.2529 - accuracy: 0.6026\n",
            "0.6025999784469604\n"
          ]
        }
      ]
    },
    {
      "cell_type": "code",
      "source": [
        "#繪製正確性與損失歷史圖\n",
        "import matplotlib.pyplot as plt\n",
        "import numpy as np\n",
        "\n",
        "def show_train_history(train_history, train):\n",
        "    plt.plot(train_history.history[train])\n",
        "    plt.title('Train History')\n",
        "    plt.ylabel(train)\n",
        "    plt.xlabel('Epoch')\n",
        "    plt.legend(['train'], loc='center right')\n",
        "    plt.show()\n",
        "\n",
        "show_train_history(train_history, 'accuracy')\n",
        "show_train_history(train_history, 'loss')"
      ],
      "metadata": {
        "colab": {
          "base_uri": "https://localhost:8080/",
          "height": 573
        },
        "id": "YycOQ_auS_1s",
        "outputId": "b4bf76dc-2a3a-4d06-ce41-6f6208714e0b"
      },
      "execution_count": 7,
      "outputs": [
        {
          "output_type": "display_data",
          "data": {
            "text/plain": [
              "<Figure size 432x288 with 1 Axes>"
            ],
            "image/png": "[encoded data removed]"
          },
          "metadata": {
            "needs_background": "light"
          }
        },
        {
          "output_type": "display_data",
          "data": {
            "text/plain": [
              "<Figure size 432x288 with 1 Axes>"
            ],
            "image/png": "[encoded data removed]"
          },
          "metadata": {
            "needs_background": "light"
          }
        }
      ]
    }
  ]
}